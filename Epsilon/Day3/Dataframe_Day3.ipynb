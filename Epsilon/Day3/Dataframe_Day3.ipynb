{
 "cells": [
  {
   "cell_type": "code",
   "execution_count": 0,
   "metadata": {
    "application/vnd.databricks.v1+cell": {
     "cellMetadata": {
      "byteLimit": 2048000,
      "implicitDf": true,
      "rowLimit": 10000
     },
     "inputWidgets": {},
     "nuid": "d33c43cb-b4e5-4dda-99f3-540c0557cdc3",
     "showTitle": false,
     "tableResultSettingsMap": {},
     "title": ""
    }
   },
   "outputs": [],
   "source": [
    "input_path=\"/Volumes/auto/naval/raw/sales.csv\"\n",
    "#input_path=\"/Volumes/auto/ketki/vol/Customer Opt-In_Opt-Out (2).xls\"\n",
    "df=spark.read.csv(input_path,header=True,inferSchema=True)\n",
    "#df.show()\n",
    "df.display()\n"
   ]
  },
  {
   "cell_type": "code",
   "execution_count": 0,
   "metadata": {
    "application/vnd.databricks.v1+cell": {
     "cellMetadata": {
      "byteLimit": 2048000,
      "rowLimit": 10000
     },
     "inputWidgets": {},
     "nuid": "4bddf073-8b1a-489c-b2f1-59cae2623b0e",
     "showTitle": false,
     "tableResultSettingsMap": {},
     "title": ""
    }
   },
   "outputs": [],
   "source": [
    "df.filter(\"order_id=2\").display()"
   ]
  },
  {
   "cell_type": "code",
   "execution_count": 0,
   "metadata": {
    "application/vnd.databricks.v1+cell": {
     "cellMetadata": {},
     "inputWidgets": {},
     "nuid": "493cf358-e3f6-487a-97cf-9cb8e09163f4",
     "showTitle": false,
     "tableResultSettingsMap": {},
     "title": ""
    }
   },
   "outputs": [],
   "source": []
  },
  {
   "cell_type": "code",
   "execution_count": 0,
   "metadata": {
    "application/vnd.databricks.v1+cell": {
     "cellMetadata": {
      "byteLimit": 2048000,
      "rowLimit": 10000
     },
     "inputWidgets": {},
     "nuid": "9e8ae7ec-a7e7-4538-8f63-5c6c8845cf08",
     "showTitle": false,
     "tableResultSettingsMap": {},
     "title": ""
    }
   },
   "outputs": [],
   "source": [
    "from pyspark.sql.functions import *\n",
    "#df.select(\"*\")\n",
    "#df.select(\"order_id\",\"customer_id\")\n",
    "\n",
    "#df.select(col(\"order_id\").alias(\"orderid\"))\n",
    "df.printSchema()\n"
   ]
  },
  {
   "cell_type": "code",
   "execution_count": 0,
   "metadata": {
    "application/vnd.databricks.v1+cell": {
     "cellMetadata": {
      "byteLimit": 2048000,
      "rowLimit": 10000
     },
     "inputWidgets": {},
     "nuid": "6afa7764-0a70-45de-985f-6f0059b46f3a",
     "showTitle": false,
     "tableResultSettingsMap": {},
     "title": ""
    },
    "jupyter": {
     "outputs_hidden": true
    }
   },
   "outputs": [],
   "source": [
    "df.select(col(\"order_id\").alias(\"orderid\")).display() "
   ]
  },
  {
   "cell_type": "code",
   "execution_count": 0,
   "metadata": {
    "application/vnd.databricks.v1+cell": {
     "cellMetadata": {},
     "inputWidgets": {},
     "nuid": "da081101-e30a-4839-9cca-52f4dbebfca5",
     "showTitle": false,
     "tableResultSettingsMap": {},
     "title": ""
    }
   },
   "outputs": [],
   "source": [
    "#Renaming a Column \n",
    "df.withColumnRenamed(\"order_id\",\"orderid\").withColumnRenamed(\"customer_id\",\"customerid\").withColumnRenamed(\"transaction_id\",\"transactionid\").display()\n",
    "\n",
    "#Renaming multiple columns-- Column name and alias in the set\n",
    "df1=df.withColumnsRenamed({\"order_id\":\"orderid\",\"customer_id\":\"customerid\",\"transaction_id\":\"transactionid\"})"
   ]
  },
  {
   "cell_type": "code",
   "execution_count": 0,
   "metadata": {
    "application/vnd.databricks.v1+cell": {
     "cellMetadata": {
      "byteLimit": 2048000,
      "rowLimit": 10000
     },
     "inputWidgets": {},
     "nuid": "b6be33d9-64a2-4ada-b78b-18669c148d90",
     "showTitle": false,
     "tableResultSettingsMap": {},
     "title": ""
    }
   },
   "outputs": [],
   "source": [
    "#Writing the multiple line code should be seperated with '\\'\n",
    "df_new=df\\\n",
    ".withColumnsRenamed({\"order_id\":\"orderid\",\"customer_id\":\"customerid\",\"transaction_id\":\"transactionid\"})\\\n",
    ".withColumn(\"ingestion_date\",current_date())\\\n",
    ".withColumn(\"total_amount\",round(\"total_amount\"))"
   ]
  }
 ],
 "metadata": {
  "application/vnd.databricks.v1+notebook": {
   "computePreferences": null,
   "dashboards": [],
   "environmentMetadata": {
    "base_environment": "",
    "environment_version": "2"
   },
   "inputWidgetPreferences": null,
   "language": "python",
   "notebookMetadata": {
    "mostRecentlyExecutedCommandWithImplicitDF": {
     "commandId": -1,
     "dataframes": [
      "_sqldf"
     ]
    },
    "pythonIndentUnit": 4
   },
   "notebookName": "Dataframe_Day3",
   "widgets": {}
  },
  "language_info": {
   "name": "python"
  }
 },
 "nbformat": 4,
 "nbformat_minor": 0
}
